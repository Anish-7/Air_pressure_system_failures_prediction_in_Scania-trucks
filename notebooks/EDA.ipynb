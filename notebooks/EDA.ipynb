{
 "cells": [
  {
   "attachments": {},
   "cell_type": "markdown",
   "metadata": {},
   "source": [
    "# Air pressure system failure prediction SCANIA  trucks"
   ]
  },
  {
   "cell_type": "code",
   "execution_count": 1,
   "metadata": {},
   "outputs": [],
   "source": [
    "import os \n",
    "import pandas as pd\n",
    "import numpy as np\n",
    "import seaborn as sns\n",
    "import matplotlib.pyplot as plt"
   ]
  },
  {
   "attachments": {},
   "cell_type": "markdown",
   "metadata": {},
   "source": [
    "## importing data"
   ]
  },
  {
   "cell_type": "code",
   "execution_count": 2,
   "metadata": {},
   "outputs": [],
   "source": [
    "data_path = os.path.join(os.getcwd(),'data')"
   ]
  },
  {
   "cell_type": "code",
   "execution_count": 3,
   "metadata": {},
   "outputs": [],
   "source": [
    "train_path = os.path.join(data_path,'aps_failure_training_set.csv')\n",
    "test_path = os.path.join(data_path,'aps_failure_test_set.csv')"
   ]
  },
  {
   "cell_type": "code",
   "execution_count": 4,
   "metadata": {},
   "outputs": [
    {
     "data": {
      "text/html": [
       "<div>\n",
       "<style scoped>\n",
       "    .dataframe tbody tr th:only-of-type {\n",
       "        vertical-align: middle;\n",
       "    }\n",
       "\n",
       "    .dataframe tbody tr th {\n",
       "        vertical-align: top;\n",
       "    }\n",
       "\n",
       "    .dataframe thead th {\n",
       "        text-align: right;\n",
       "    }\n",
       "</style>\n",
       "<table border=\"1\" class=\"dataframe\">\n",
       "  <thead>\n",
       "    <tr style=\"text-align: right;\">\n",
       "      <th></th>\n",
       "      <th>class</th>\n",
       "      <th>aa_000</th>\n",
       "      <th>ab_000</th>\n",
       "      <th>ac_000</th>\n",
       "      <th>ad_000</th>\n",
       "      <th>ae_000</th>\n",
       "      <th>af_000</th>\n",
       "      <th>ag_000</th>\n",
       "      <th>ag_001</th>\n",
       "      <th>ag_002</th>\n",
       "      <th>...</th>\n",
       "      <th>ee_002</th>\n",
       "      <th>ee_003</th>\n",
       "      <th>ee_004</th>\n",
       "      <th>ee_005</th>\n",
       "      <th>ee_006</th>\n",
       "      <th>ee_007</th>\n",
       "      <th>ee_008</th>\n",
       "      <th>ee_009</th>\n",
       "      <th>ef_000</th>\n",
       "      <th>eg_000</th>\n",
       "    </tr>\n",
       "  </thead>\n",
       "  <tbody>\n",
       "    <tr>\n",
       "      <th>0</th>\n",
       "      <td>neg</td>\n",
       "      <td>76698</td>\n",
       "      <td>na</td>\n",
       "      <td>2130706438</td>\n",
       "      <td>280</td>\n",
       "      <td>0</td>\n",
       "      <td>0</td>\n",
       "      <td>0</td>\n",
       "      <td>0</td>\n",
       "      <td>0</td>\n",
       "      <td>...</td>\n",
       "      <td>1240520</td>\n",
       "      <td>493384</td>\n",
       "      <td>721044</td>\n",
       "      <td>469792</td>\n",
       "      <td>339156</td>\n",
       "      <td>157956</td>\n",
       "      <td>73224</td>\n",
       "      <td>0</td>\n",
       "      <td>0</td>\n",
       "      <td>0</td>\n",
       "    </tr>\n",
       "    <tr>\n",
       "      <th>1</th>\n",
       "      <td>neg</td>\n",
       "      <td>33058</td>\n",
       "      <td>na</td>\n",
       "      <td>0</td>\n",
       "      <td>na</td>\n",
       "      <td>0</td>\n",
       "      <td>0</td>\n",
       "      <td>0</td>\n",
       "      <td>0</td>\n",
       "      <td>0</td>\n",
       "      <td>...</td>\n",
       "      <td>421400</td>\n",
       "      <td>178064</td>\n",
       "      <td>293306</td>\n",
       "      <td>245416</td>\n",
       "      <td>133654</td>\n",
       "      <td>81140</td>\n",
       "      <td>97576</td>\n",
       "      <td>1500</td>\n",
       "      <td>0</td>\n",
       "      <td>0</td>\n",
       "    </tr>\n",
       "    <tr>\n",
       "      <th>2</th>\n",
       "      <td>neg</td>\n",
       "      <td>41040</td>\n",
       "      <td>na</td>\n",
       "      <td>228</td>\n",
       "      <td>100</td>\n",
       "      <td>0</td>\n",
       "      <td>0</td>\n",
       "      <td>0</td>\n",
       "      <td>0</td>\n",
       "      <td>0</td>\n",
       "      <td>...</td>\n",
       "      <td>277378</td>\n",
       "      <td>159812</td>\n",
       "      <td>423992</td>\n",
       "      <td>409564</td>\n",
       "      <td>320746</td>\n",
       "      <td>158022</td>\n",
       "      <td>95128</td>\n",
       "      <td>514</td>\n",
       "      <td>0</td>\n",
       "      <td>0</td>\n",
       "    </tr>\n",
       "    <tr>\n",
       "      <th>3</th>\n",
       "      <td>neg</td>\n",
       "      <td>12</td>\n",
       "      <td>0</td>\n",
       "      <td>70</td>\n",
       "      <td>66</td>\n",
       "      <td>0</td>\n",
       "      <td>10</td>\n",
       "      <td>0</td>\n",
       "      <td>0</td>\n",
       "      <td>0</td>\n",
       "      <td>...</td>\n",
       "      <td>240</td>\n",
       "      <td>46</td>\n",
       "      <td>58</td>\n",
       "      <td>44</td>\n",
       "      <td>10</td>\n",
       "      <td>0</td>\n",
       "      <td>0</td>\n",
       "      <td>0</td>\n",
       "      <td>4</td>\n",
       "      <td>32</td>\n",
       "    </tr>\n",
       "    <tr>\n",
       "      <th>4</th>\n",
       "      <td>neg</td>\n",
       "      <td>60874</td>\n",
       "      <td>na</td>\n",
       "      <td>1368</td>\n",
       "      <td>458</td>\n",
       "      <td>0</td>\n",
       "      <td>0</td>\n",
       "      <td>0</td>\n",
       "      <td>0</td>\n",
       "      <td>0</td>\n",
       "      <td>...</td>\n",
       "      <td>622012</td>\n",
       "      <td>229790</td>\n",
       "      <td>405298</td>\n",
       "      <td>347188</td>\n",
       "      <td>286954</td>\n",
       "      <td>311560</td>\n",
       "      <td>433954</td>\n",
       "      <td>1218</td>\n",
       "      <td>0</td>\n",
       "      <td>0</td>\n",
       "    </tr>\n",
       "    <tr>\n",
       "      <th>...</th>\n",
       "      <td>...</td>\n",
       "      <td>...</td>\n",
       "      <td>...</td>\n",
       "      <td>...</td>\n",
       "      <td>...</td>\n",
       "      <td>...</td>\n",
       "      <td>...</td>\n",
       "      <td>...</td>\n",
       "      <td>...</td>\n",
       "      <td>...</td>\n",
       "      <td>...</td>\n",
       "      <td>...</td>\n",
       "      <td>...</td>\n",
       "      <td>...</td>\n",
       "      <td>...</td>\n",
       "      <td>...</td>\n",
       "      <td>...</td>\n",
       "      <td>...</td>\n",
       "      <td>...</td>\n",
       "      <td>...</td>\n",
       "      <td>...</td>\n",
       "    </tr>\n",
       "    <tr>\n",
       "      <th>59995</th>\n",
       "      <td>neg</td>\n",
       "      <td>153002</td>\n",
       "      <td>na</td>\n",
       "      <td>664</td>\n",
       "      <td>186</td>\n",
       "      <td>0</td>\n",
       "      <td>0</td>\n",
       "      <td>0</td>\n",
       "      <td>0</td>\n",
       "      <td>0</td>\n",
       "      <td>...</td>\n",
       "      <td>998500</td>\n",
       "      <td>566884</td>\n",
       "      <td>1290398</td>\n",
       "      <td>1218244</td>\n",
       "      <td>1019768</td>\n",
       "      <td>717762</td>\n",
       "      <td>898642</td>\n",
       "      <td>28588</td>\n",
       "      <td>0</td>\n",
       "      <td>0</td>\n",
       "    </tr>\n",
       "    <tr>\n",
       "      <th>59996</th>\n",
       "      <td>neg</td>\n",
       "      <td>2286</td>\n",
       "      <td>na</td>\n",
       "      <td>2130706538</td>\n",
       "      <td>224</td>\n",
       "      <td>0</td>\n",
       "      <td>0</td>\n",
       "      <td>0</td>\n",
       "      <td>0</td>\n",
       "      <td>0</td>\n",
       "      <td>...</td>\n",
       "      <td>10578</td>\n",
       "      <td>6760</td>\n",
       "      <td>21126</td>\n",
       "      <td>68424</td>\n",
       "      <td>136</td>\n",
       "      <td>0</td>\n",
       "      <td>0</td>\n",
       "      <td>0</td>\n",
       "      <td>0</td>\n",
       "      <td>0</td>\n",
       "    </tr>\n",
       "    <tr>\n",
       "      <th>59997</th>\n",
       "      <td>neg</td>\n",
       "      <td>112</td>\n",
       "      <td>0</td>\n",
       "      <td>2130706432</td>\n",
       "      <td>18</td>\n",
       "      <td>0</td>\n",
       "      <td>0</td>\n",
       "      <td>0</td>\n",
       "      <td>0</td>\n",
       "      <td>0</td>\n",
       "      <td>...</td>\n",
       "      <td>792</td>\n",
       "      <td>386</td>\n",
       "      <td>452</td>\n",
       "      <td>144</td>\n",
       "      <td>146</td>\n",
       "      <td>2622</td>\n",
       "      <td>0</td>\n",
       "      <td>0</td>\n",
       "      <td>0</td>\n",
       "      <td>0</td>\n",
       "    </tr>\n",
       "    <tr>\n",
       "      <th>59998</th>\n",
       "      <td>neg</td>\n",
       "      <td>80292</td>\n",
       "      <td>na</td>\n",
       "      <td>2130706432</td>\n",
       "      <td>494</td>\n",
       "      <td>0</td>\n",
       "      <td>0</td>\n",
       "      <td>0</td>\n",
       "      <td>0</td>\n",
       "      <td>0</td>\n",
       "      <td>...</td>\n",
       "      <td>699352</td>\n",
       "      <td>222654</td>\n",
       "      <td>347378</td>\n",
       "      <td>225724</td>\n",
       "      <td>194440</td>\n",
       "      <td>165070</td>\n",
       "      <td>802280</td>\n",
       "      <td>388422</td>\n",
       "      <td>0</td>\n",
       "      <td>0</td>\n",
       "    </tr>\n",
       "    <tr>\n",
       "      <th>59999</th>\n",
       "      <td>neg</td>\n",
       "      <td>40222</td>\n",
       "      <td>na</td>\n",
       "      <td>698</td>\n",
       "      <td>628</td>\n",
       "      <td>0</td>\n",
       "      <td>0</td>\n",
       "      <td>0</td>\n",
       "      <td>0</td>\n",
       "      <td>0</td>\n",
       "      <td>...</td>\n",
       "      <td>440066</td>\n",
       "      <td>183200</td>\n",
       "      <td>344546</td>\n",
       "      <td>254068</td>\n",
       "      <td>225148</td>\n",
       "      <td>158304</td>\n",
       "      <td>170384</td>\n",
       "      <td>158</td>\n",
       "      <td>0</td>\n",
       "      <td>0</td>\n",
       "    </tr>\n",
       "  </tbody>\n",
       "</table>\n",
       "<p>60000 rows × 171 columns</p>\n",
       "</div>"
      ],
      "text/plain": [
       "      class  aa_000 ab_000      ac_000 ad_000 ae_000 af_000 ag_000 ag_001   \n",
       "0       neg   76698     na  2130706438    280      0      0      0      0  \\\n",
       "1       neg   33058     na           0     na      0      0      0      0   \n",
       "2       neg   41040     na         228    100      0      0      0      0   \n",
       "3       neg      12      0          70     66      0     10      0      0   \n",
       "4       neg   60874     na        1368    458      0      0      0      0   \n",
       "...     ...     ...    ...         ...    ...    ...    ...    ...    ...   \n",
       "59995   neg  153002     na         664    186      0      0      0      0   \n",
       "59996   neg    2286     na  2130706538    224      0      0      0      0   \n",
       "59997   neg     112      0  2130706432     18      0      0      0      0   \n",
       "59998   neg   80292     na  2130706432    494      0      0      0      0   \n",
       "59999   neg   40222     na         698    628      0      0      0      0   \n",
       "\n",
       "      ag_002  ...   ee_002  ee_003   ee_004   ee_005   ee_006  ee_007  ee_008   \n",
       "0          0  ...  1240520  493384   721044   469792   339156  157956   73224  \\\n",
       "1          0  ...   421400  178064   293306   245416   133654   81140   97576   \n",
       "2          0  ...   277378  159812   423992   409564   320746  158022   95128   \n",
       "3          0  ...      240      46       58       44       10       0       0   \n",
       "4          0  ...   622012  229790   405298   347188   286954  311560  433954   \n",
       "...      ...  ...      ...     ...      ...      ...      ...     ...     ...   \n",
       "59995      0  ...   998500  566884  1290398  1218244  1019768  717762  898642   \n",
       "59996      0  ...    10578    6760    21126    68424      136       0       0   \n",
       "59997      0  ...      792     386      452      144      146    2622       0   \n",
       "59998      0  ...   699352  222654   347378   225724   194440  165070  802280   \n",
       "59999      0  ...   440066  183200   344546   254068   225148  158304  170384   \n",
       "\n",
       "       ee_009 ef_000 eg_000  \n",
       "0           0      0      0  \n",
       "1        1500      0      0  \n",
       "2         514      0      0  \n",
       "3           0      4     32  \n",
       "4        1218      0      0  \n",
       "...       ...    ...    ...  \n",
       "59995   28588      0      0  \n",
       "59996       0      0      0  \n",
       "59997       0      0      0  \n",
       "59998  388422      0      0  \n",
       "59999     158      0      0  \n",
       "\n",
       "[60000 rows x 171 columns]"
      ]
     },
     "execution_count": 4,
     "metadata": {},
     "output_type": "execute_result"
    }
   ],
   "source": [
    "train_set = pd.read_csv(train_path)\n",
    "train_set"
   ]
  },
  {
   "attachments": {},
   "cell_type": "markdown",
   "metadata": {},
   "source": [
    "## Data is imbalanced POS class has only 1000 counts"
   ]
  },
  {
   "cell_type": "code",
   "execution_count": 5,
   "metadata": {},
   "outputs": [
    {
     "data": {
      "text/plain": [
       "class\n",
       "neg    59000\n",
       "pos     1000\n",
       "Name: count, dtype: int64"
      ]
     },
     "execution_count": 5,
     "metadata": {},
     "output_type": "execute_result"
    }
   ],
   "source": [
    "train_set['class'].value_counts()"
   ]
  },
  {
   "attachments": {},
   "cell_type": "markdown",
   "metadata": {},
   "source": [
    "## Checking duplicates"
   ]
  },
  {
   "cell_type": "code",
   "execution_count": 6,
   "metadata": {},
   "outputs": [
    {
     "data": {
      "text/plain": [
       "0"
      ]
     },
     "execution_count": 6,
     "metadata": {},
     "output_type": "execute_result"
    }
   ],
   "source": [
    "train_set.duplicated().sum()"
   ]
  },
  {
   "attachments": {},
   "cell_type": "markdown",
   "metadata": {},
   "source": [
    "## Nan values are represented by 'na' so replacing it by np.nan"
   ]
  },
  {
   "cell_type": "code",
   "execution_count": 7,
   "metadata": {},
   "outputs": [],
   "source": [
    "train_set.replace('na',np.nan,inplace=True)"
   ]
  },
  {
   "attachments": {},
   "cell_type": "markdown",
   "metadata": {},
   "source": [
    "## Checking the distribution of nan value per column"
   ]
  },
  {
   "cell_type": "code",
   "execution_count": 8,
   "metadata": {},
   "outputs": [],
   "source": [
    "null_count = train_set.isnull().sum()"
   ]
  },
  {
   "cell_type": "code",
   "execution_count": 9,
   "metadata": {},
   "outputs": [
    {
     "data": {
      "text/plain": [
       "<BarContainer object of 25 artists>"
      ]
     },
     "execution_count": 9,
     "metadata": {},
     "output_type": "execute_result"
    },
    {
     "data": {
      "image/png": "[encoded data removed]",
      "text/plain": [
       "<Figure size 2000x1000 with 1 Axes>"
      ]
     },
     "metadata": {},
     "output_type": "display_data"
    }
   ],
   "source": [
    "plt.figure(figsize=(20,10))\n",
    "plt.bar(height =null_count[null_count>10000],x=null_count[null_count>10000].index)"
   ]
  },
  {
   "attachments": {},
   "cell_type": "markdown",
   "metadata": {},
   "source": [
    "## Dropping columns which have greater than 70% nan values"
   ]
  },
  {
   "cell_type": "code",
   "execution_count": 10,
   "metadata": {},
   "outputs": [
    {
     "data": {
      "text/plain": [
       "Index(['ab_000', 'bn_000', 'bo_000', 'bp_000', 'bq_000', 'br_000', 'cr_000'], dtype='object')"
      ]
     },
     "execution_count": 10,
     "metadata": {},
     "output_type": "execute_result"
    }
   ],
   "source": [
    "drop_col = null_count[null_count>42000].index\n",
    "drop_col"
   ]
  },
  {
   "cell_type": "code",
   "execution_count": 11,
   "metadata": {},
   "outputs": [],
   "source": [
    "train_set.drop(columns=drop_col,inplace=True)"
   ]
  },
  {
   "cell_type": "code",
   "execution_count": 12,
   "metadata": {},
   "outputs": [
    {
     "data": {
      "text/plain": [
       "(60000, 164)"
      ]
     },
     "execution_count": 12,
     "metadata": {},
     "output_type": "execute_result"
    }
   ],
   "source": [
    "train_set.shape"
   ]
  },
  {
   "attachments": {},
   "cell_type": "markdown",
   "metadata": {},
   "source": [
    "## Dividing Continous and discrete values "
   ]
  },
  {
   "cell_type": "code",
   "execution_count": 13,
   "metadata": {},
   "outputs": [],
   "source": [
    "x = train_set.iloc[:,1:]\n",
    "# x.columns\n",
    "y = train_set['class']\n",
    "# y"
   ]
  },
  {
   "cell_type": "code",
   "execution_count": 14,
   "metadata": {},
   "outputs": [],
   "source": [
    "def segregate_cols(x):\n",
    "    cont = []\n",
    "    dis = []\n",
    "    obj = []\n",
    "    for cols in x.columns:\n",
    "        try : \n",
    "            x[cols]=pd.to_numeric(x[cols])\n",
    "            if (x[cols]%1>0).any():\n",
    "                cont.append(cols)\n",
    "            else:\n",
    "                dis.append(cols)\n",
    "        except:\n",
    "                obj.append(cols)\n",
    "\n",
    "    return cont,dis,obj"
   ]
  },
  {
   "cell_type": "code",
   "execution_count": 15,
   "metadata": {},
   "outputs": [],
   "source": [
    "cont,dis,obj = segregate_cols(x)"
   ]
  },
  {
   "cell_type": "code",
   "execution_count": 16,
   "metadata": {},
   "outputs": [
    {
     "data": {
      "text/plain": [
       "[]"
      ]
     },
     "execution_count": 16,
     "metadata": {},
     "output_type": "execute_result"
    }
   ],
   "source": [
    "obj"
   ]
  },
  {
   "cell_type": "code",
   "execution_count": 17,
   "metadata": {},
   "outputs": [],
   "source": [
    "cont_set = train_set[cont]\n",
    "\n",
    "dis_set = train_set[dis]"
   ]
  },
  {
   "attachments": {},
   "cell_type": "markdown",
   "metadata": {},
   "source": [
    "## Imputing the missing values"
   ]
  },
  {
   "cell_type": "code",
   "execution_count": 18,
   "metadata": {},
   "outputs": [
    {
     "data": {
      "text/plain": [
       "bt_000      167\n",
       "ci_000      338\n",
       "cj_000      338\n",
       "ck_000      338\n",
       "ec_00     10239\n",
       "dtype: int64"
      ]
     },
     "execution_count": 18,
     "metadata": {},
     "output_type": "execute_result"
    }
   ],
   "source": [
    "cont_set.isna().sum()"
   ]
  },
  {
   "cell_type": "code",
   "execution_count": 19,
   "metadata": {},
   "outputs": [
    {
     "data": {
      "text/plain": [
       "aa_000        0\n",
       "ac_000     3335\n",
       "ad_000    14861\n",
       "ae_000     2500\n",
       "af_000     2500\n",
       "          ...  \n",
       "ee_007      671\n",
       "ee_008      671\n",
       "ee_009      671\n",
       "ef_000     2724\n",
       "eg_000     2723\n",
       "Length: 158, dtype: int64"
      ]
     },
     "execution_count": 19,
     "metadata": {},
     "output_type": "execute_result"
    }
   ],
   "source": [
    "dis_set.isna().sum()"
   ]
  },
  {
   "cell_type": "code",
   "execution_count": 20,
   "metadata": {},
   "outputs": [
    {
     "data": {
      "text/html": [
       "<div>\n",
       "<style scoped>\n",
       "    .dataframe tbody tr th:only-of-type {\n",
       "        vertical-align: middle;\n",
       "    }\n",
       "\n",
       "    .dataframe tbody tr th {\n",
       "        vertical-align: top;\n",
       "    }\n",
       "\n",
       "    .dataframe thead th {\n",
       "        text-align: right;\n",
       "    }\n",
       "</style>\n",
       "<table border=\"1\" class=\"dataframe\">\n",
       "  <thead>\n",
       "    <tr style=\"text-align: right;\">\n",
       "      <th></th>\n",
       "      <th>bt_000</th>\n",
       "      <th>ci_000</th>\n",
       "      <th>cj_000</th>\n",
       "      <th>ck_000</th>\n",
       "      <th>ec_00</th>\n",
       "    </tr>\n",
       "  </thead>\n",
       "  <tbody>\n",
       "    <tr>\n",
       "      <th>0</th>\n",
       "      <td>76698.08</td>\n",
       "      <td>5245752</td>\n",
       "      <td>0</td>\n",
       "      <td>916567.68</td>\n",
       "      <td>2445.8</td>\n",
       "    </tr>\n",
       "    <tr>\n",
       "      <th>1</th>\n",
       "      <td>33057.51</td>\n",
       "      <td>2291079.36</td>\n",
       "      <td>0</td>\n",
       "      <td>643536.96</td>\n",
       "      <td>2211.76</td>\n",
       "    </tr>\n",
       "    <tr>\n",
       "      <th>2</th>\n",
       "      <td>41040.08</td>\n",
       "      <td>2322692.16</td>\n",
       "      <td>0</td>\n",
       "      <td>236099.52</td>\n",
       "      <td>1018.64</td>\n",
       "    </tr>\n",
       "    <tr>\n",
       "      <th>3</th>\n",
       "      <td>12.69</td>\n",
       "      <td>2135.04</td>\n",
       "      <td>0</td>\n",
       "      <td>4525.44</td>\n",
       "      <td>1.08</td>\n",
       "    </tr>\n",
       "    <tr>\n",
       "      <th>4</th>\n",
       "      <td>60874.03</td>\n",
       "      <td>3565684.8</td>\n",
       "      <td>0</td>\n",
       "      <td>379111.68</td>\n",
       "      <td>1116.06</td>\n",
       "    </tr>\n",
       "    <tr>\n",
       "      <th>...</th>\n",
       "      <td>...</td>\n",
       "      <td>...</td>\n",
       "      <td>...</td>\n",
       "      <td>...</td>\n",
       "      <td>...</td>\n",
       "    </tr>\n",
       "    <tr>\n",
       "      <th>59995</th>\n",
       "      <td>153001.45</td>\n",
       "      <td>8289544.32</td>\n",
       "      <td>0</td>\n",
       "      <td>1529548.8</td>\n",
       "      <td>2912.04</td>\n",
       "    </tr>\n",
       "    <tr>\n",
       "      <th>59996</th>\n",
       "      <td>2285.92</td>\n",
       "      <td>123344.64</td>\n",
       "      <td>0</td>\n",
       "      <td>11387.52</td>\n",
       "      <td>80.4</td>\n",
       "    </tr>\n",
       "    <tr>\n",
       "      <th>59997</th>\n",
       "      <td>112.49</td>\n",
       "      <td>7518.72</td>\n",
       "      <td>4221.12</td>\n",
       "      <td>10493.76</td>\n",
       "      <td>2.76</td>\n",
       "    </tr>\n",
       "    <tr>\n",
       "      <th>59998</th>\n",
       "      <td>80292.76</td>\n",
       "      <td>4776505.92</td>\n",
       "      <td>106006.08</td>\n",
       "      <td>1048805.76</td>\n",
       "      <td>1659.7</td>\n",
       "    </tr>\n",
       "    <tr>\n",
       "      <th>59999</th>\n",
       "      <td>40221.06</td>\n",
       "      <td>2480113.92</td>\n",
       "      <td>0</td>\n",
       "      <td>389530.56</td>\n",
       "      <td>1035.22</td>\n",
       "    </tr>\n",
       "  </tbody>\n",
       "</table>\n",
       "<p>60000 rows × 5 columns</p>\n",
       "</div>"
      ],
      "text/plain": [
       "          bt_000      ci_000     cj_000      ck_000    ec_00\n",
       "0       76698.08     5245752          0   916567.68   2445.8\n",
       "1       33057.51  2291079.36          0   643536.96  2211.76\n",
       "2       41040.08  2322692.16          0   236099.52  1018.64\n",
       "3          12.69     2135.04          0     4525.44     1.08\n",
       "4       60874.03   3565684.8          0   379111.68  1116.06\n",
       "...          ...         ...        ...         ...      ...\n",
       "59995  153001.45  8289544.32          0   1529548.8  2912.04\n",
       "59996    2285.92   123344.64          0    11387.52     80.4\n",
       "59997     112.49     7518.72    4221.12    10493.76     2.76\n",
       "59998   80292.76  4776505.92  106006.08  1048805.76   1659.7\n",
       "59999   40221.06  2480113.92          0   389530.56  1035.22\n",
       "\n",
       "[60000 rows x 5 columns]"
      ]
     },
     "execution_count": 20,
     "metadata": {},
     "output_type": "execute_result"
    }
   ],
   "source": [
    "cont_set"
   ]
  },
  {
   "attachments": {},
   "cell_type": "markdown",
   "metadata": {},
   "source": [
    "## checking skewness of continous and discrete columns"
   ]
  },
  {
   "cell_type": "code",
   "execution_count": 21,
   "metadata": {},
   "outputs": [
    {
     "data": {
      "text/plain": [
       "array([6.118994356901087, 5.836331522733422, 22.10617671646724,\n",
       "       8.780390814584287, 9.785267561955981], dtype=object)"
      ]
     },
     "execution_count": 21,
     "metadata": {},
     "output_type": "execute_result"
    }
   ],
   "source": [
    "cont_set.skew(skipna=True).values\n"
   ]
  },
  {
   "cell_type": "code",
   "execution_count": 22,
   "metadata": {},
   "outputs": [
    {
     "data": {
      "text/plain": [
       "array([6.115752483633429, 1.784844845141587, 212.45940566804606,\n",
       "       90.5882523671592, 51.671769825159885, 153.3875546680978,\n",
       "       76.07604880871378, 37.02622150653619, 23.787915949905322,\n",
       "       22.292290128815015, 9.139142511044623, 8.272126008163475,\n",
       "       12.37836491872851, 35.67965585203641, 98.28898879372306,\n",
       "       5.534549192024902, 47.45265149902943, 75.07573107226116,\n",
       "       113.62549665817274, 28.89295128246403, 28.36139997235212,\n",
       "       5.568640359723724, 5.668929156683823, 7.807262184400477,\n",
       "       7.87783819933435, 27.902211617017873, 111.73242770313877,\n",
       "       57.31679458410669, 108.98780911664761, 47.13358323072948,\n",
       "       21.808876073803805, 59.621485638357214, 102.41575771942146,\n",
       "       53.64007677459333, 40.19520106514795, 63.50932194926727,\n",
       "       39.04176615727337, 12.796322263701164, 21.47072525559567,\n",
       "       9.657899076456031, 159.06683678538678, 69.34748490646741,\n",
       "       58.303988913527114, 86.76353513870349, 32.66392811806339,\n",
       "       8.721882727355187, 12.754715209600851, 24.83050753075289,\n",
       "       63.19470008017328, 62.46105569463307, 163.60914648805067,\n",
       "       11.367091557989008, 9.535364244939604, 9.165728906259615,\n",
       "       9.348956823840116, 9.15607289505039, 9.811978667551383,\n",
       "       10.67364485802696, 8.759218006959367, 53.34524966003063,\n",
       "       49.20988090137441, 5.870093771169788, 43.26297649192275,\n",
       "       23.081961322566872, 37.84446631676953, 40.521961740551944,\n",
       "       5.534854018691377, 6.801442568917349, 9.198927541361796,\n",
       "       9.699980376452517, 3.202804083518007, 2.4812072724715475,\n",
       "       1.609164511739483, 2.006973736651257, 5.878140944889595,\n",
       "       5.878140555033432, 6.324345032219356, 6.974825247335402,\n",
       "       18.638023792942086, 0.7221036937511682, 0.6645684329347015,\n",
       "       6.355293277597199, 0.0, 8.23286500296173, 212.45940739775597,\n",
       "       29.610523423825754, 67.1654676149124, 19.787629525592838,\n",
       "       15.499522544964517, 56.63762396731754, 28.19402930365097,\n",
       "       15.480709161191573, 10.624535569077684, 8.9201627125974,\n",
       "       8.366444133058028, 18.20660609881712, 26.953117658385683,\n",
       "       21.507615386201607, 101.07583551978543, 212.4594058831194,\n",
       "       39.889492427031655, 5.87814069028433, 14.260171777365493,\n",
       "       67.93591059833093, 13.627187173030567, 11.157153359352797,\n",
       "       12.188098668068006, 10.885796201922032, 14.734058187679292,\n",
       "       140.73229358699896, 121.56391635879713, 243.53117726282542,\n",
       "       107.03106089362065, 43.84906244963419, 7.0316442536202866,\n",
       "       11.26255314415124, 65.34191581163479, 55.75708827902702,\n",
       "       62.9254551845969, 83.62796060592338, 7.177370874720663,\n",
       "       13.048040926563964, 37.477329628343064, 108.93864604257476,\n",
       "       76.81272658415484, 202.90701431472837, 24.90942820087616,\n",
       "       150.50764693183083, 49.022455139600424, 53.36920211226772,\n",
       "       48.89061575044354, 8.476746673434915, 9.026995501840814,\n",
       "       7.317061492265963, 35.3432799117028, 12.914427238235362,\n",
       "       7.376626687713718, 7.053782942840553, 8.977669778123671,\n",
       "       16.296335230148365, 10.87108604221992, 20.74766284169283,\n",
       "       92.41027345642792, 91.23055162504663, 13.35574067251625,\n",
       "       8.815512491816088, 10.599929827118538, 12.792614891621001,\n",
       "       11.944188532640428, 13.294184566486681, 16.85391836355332,\n",
       "       14.555777045121376, 10.296743303081483, 15.71724983834419,\n",
       "       13.426264518713289, 29.214135295132916, 73.43243971997417,\n",
       "       89.02948160792283], dtype=object)"
      ]
     },
     "execution_count": 22,
     "metadata": {},
     "output_type": "execute_result"
    }
   ],
   "source": [
    "dis_set.skew(skipna=True).values"
   ]
  },
  {
   "attachments": {},
   "cell_type": "markdown",
   "metadata": {},
   "source": [
    "## segregate categorical values from discrete variables"
   ]
  },
  {
   "attachments": {},
   "cell_type": "markdown",
   "metadata": {},
   "source": [
    "- segregating by 25th quantile any number of unique values less than 25th quantile of unique values"
   ]
  },
  {
   "cell_type": "code",
   "execution_count": 60,
   "metadata": {},
   "outputs": [],
   "source": [
    "def seg_cat(discrete):\n",
    "    unq = []\n",
    "\n",
    "    for col in discrete.columns:\n",
    "        unq.append(len(discrete[col].unique()))\n",
    "\n",
    "    unq = np.array(unq)\n",
    "    \n",
    "    cutoff_unq = np.quantile(unq,[0.25])\n",
    "    print(cutoff_unq)\n",
    "\n",
    "    cat = []\n",
    "    for col in discrete.columns:\n",
    "       if len(discrete[col].unique()) < cutoff_unq:\n",
    "           cat.append(col)\n",
    "    return cat"
   ]
  },
  {
   "cell_type": "code",
   "execution_count": 62,
   "metadata": {},
   "outputs": [
    {
     "name": "stdout",
     "output_type": "stream",
     "text": [
      "[1791.25]\n"
     ]
    }
   ],
   "source": [
    "cat_cols = seg_cat(dis_set)"
   ]
  },
  {
   "cell_type": "code",
   "execution_count": 63,
   "metadata": {},
   "outputs": [
    {
     "data": {
      "text/plain": [
       "40"
      ]
     },
     "execution_count": 63,
     "metadata": {},
     "output_type": "execute_result"
    }
   ],
   "source": [
    "len(cat_cols)"
   ]
  },
  {
   "attachments": {},
   "cell_type": "markdown",
   "metadata": {},
   "source": [
    "## imputing categorical with mode and numerical with median"
   ]
  }
 ],
 "metadata": {
  "kernelspec": {
   "display_name": "Python 3",
   "language": "python",
   "name": "python3"
  },
  "language_info": {
   "codemirror_mode": {
    "name": "ipython",
    "version": 3
   },
   "file_extension": ".py",
   "mimetype": "text/x-python",
   "name": "python",
   "nbconvert_exporter": "python",
   "pygments_lexer": "ipython3",
   "version": "3.9.16"
  },
  "orig_nbformat": 4
 },
 "nbformat": 4,
 "nbformat_minor": 2
}
